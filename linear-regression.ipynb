{
 "cells": [
  {
   "cell_type": "code",
   "execution_count": 1,
   "id": "dd5667f5",
   "metadata": {
    "_cell_guid": "b1076dfc-b9ad-4769-8c92-a6c4dae69d19",
    "_uuid": "8f2839f25d086af736a60e9eeb907d3b93b6e0e5",
    "execution": {
     "iopub.execute_input": "2024-05-31T05:10:47.275747Z",
     "iopub.status.busy": "2024-05-31T05:10:47.275272Z",
     "iopub.status.idle": "2024-05-31T05:10:48.355497Z",
     "shell.execute_reply": "2024-05-31T05:10:48.354255Z"
    },
    "papermill": {
     "duration": 1.091679,
     "end_time": "2024-05-31T05:10:48.358305",
     "exception": false,
     "start_time": "2024-05-31T05:10:47.266626",
     "status": "completed"
    },
    "tags": []
   },
   "outputs": [
    {
     "name": "stdout",
     "output_type": "stream",
     "text": [
      "/kaggle/input/boston-housing-dataset/HousingData.csv\n"
     ]
    }
   ],
   "source": [
    "# This Python 3 environment comes with many helpful analytics libraries installed\n",
    "# It is defined by the kaggle/python Docker image: https://github.com/kaggle/docker-python\n",
    "# For example, here's several helpful packages to load\n",
    "\n",
    "import numpy as np # linear algebra\n",
    "import pandas as pd # data processing, CSV file I/O (e.g. pd.read_csv)\n",
    "\n",
    "# Input data files are available in the read-only \"../input/\" directory\n",
    "# For example, running this (by clicking run or pressing Shift+Enter) will list all files under the input directory\n",
    "\n",
    "import os\n",
    "for dirname, _, filenames in os.walk('/kaggle/input'):\n",
    "    for filename in filenames:\n",
    "        print(os.path.join(dirname, filename))\n",
    "\n",
    "# You can write up to 20GB to the current directory (/kaggle/working/) that gets preserved as output when you create a version using \"Save & Run All\" \n",
    "# You can also write temporary files to /kaggle/temp/, but they won't be saved outside of the current session"
   ]
  },
  {
   "cell_type": "code",
   "execution_count": 2,
   "id": "d8b33f08",
   "metadata": {
    "execution": {
     "iopub.execute_input": "2024-05-31T05:10:48.374477Z",
     "iopub.status.busy": "2024-05-31T05:10:48.373515Z",
     "iopub.status.idle": "2024-05-31T05:10:48.378528Z",
     "shell.execute_reply": "2024-05-31T05:10:48.377582Z"
    },
    "papermill": {
     "duration": 0.015975,
     "end_time": "2024-05-31T05:10:48.381246",
     "exception": false,
     "start_time": "2024-05-31T05:10:48.365271",
     "status": "completed"
    },
    "tags": []
   },
   "outputs": [],
   "source": [
    "import pandas as pd\n",
    "import numpy as np\n",
    "import matplotlib.pyplot as plt"
   ]
  },
  {
   "cell_type": "code",
   "execution_count": 3,
   "id": "095fb9d5",
   "metadata": {
    "execution": {
     "iopub.execute_input": "2024-05-31T05:10:48.397417Z",
     "iopub.status.busy": "2024-05-31T05:10:48.396405Z",
     "iopub.status.idle": "2024-05-31T05:10:48.447357Z",
     "shell.execute_reply": "2024-05-31T05:10:48.445712Z"
    },
    "papermill": {
     "duration": 0.062651,
     "end_time": "2024-05-31T05:10:48.450384",
     "exception": false,
     "start_time": "2024-05-31T05:10:48.387733",
     "status": "completed"
    },
    "tags": []
   },
   "outputs": [
    {
     "name": "stdout",
     "output_type": "stream",
     "text": [
      "['boston-housing-dataset']\n",
      "      CRIM    ZN  INDUS  CHAS    NOX     RM   AGE     DIS  RAD  TAX  PTRATIO  \\\n",
      "0  0.00632  18.0   2.31   0.0  0.538  6.575  65.2  4.0900    1  296     15.3   \n",
      "1  0.02731   0.0   7.07   0.0  0.469  6.421  78.9  4.9671    2  242     17.8   \n",
      "2  0.02729   0.0   7.07   0.0  0.469  7.185  61.1  4.9671    2  242     17.8   \n",
      "3  0.03237   0.0   2.18   0.0  0.458  6.998  45.8  6.0622    3  222     18.7   \n",
      "4  0.06905   0.0   2.18   0.0  0.458  7.147  54.2  6.0622    3  222     18.7   \n",
      "\n",
      "        B  LSTAT  MEDV  \n",
      "0  396.90   4.98  24.0  \n",
      "1  396.90   9.14  21.6  \n",
      "2  392.83   4.03  34.7  \n",
      "3  394.63   2.94  33.4  \n",
      "4  396.90    NaN  36.2  \n"
     ]
    },
    {
     "data": {
      "text/plain": [
       "(506, 14)"
      ]
     },
     "execution_count": 3,
     "metadata": {},
     "output_type": "execute_result"
    }
   ],
   "source": [
    "import pandas as pd\n",
    "import numpy as np\n",
    "import os\n",
    "\n",
    "# List the files in the current directory to confirm\n",
    "print(os.listdir('/kaggle/input'))\n",
    "\n",
    "\n",
    "data = pd.read_csv('/kaggle/input/boston-housing-dataset/HousingData.csv')\n",
    "\n",
    "\n",
    "df = pd.DataFrame(data)\n",
    "print(df.head())\n",
    "\n",
    "df.shape"
   ]
  },
  {
   "cell_type": "code",
   "execution_count": 4,
   "id": "0db0651e",
   "metadata": {
    "execution": {
     "iopub.execute_input": "2024-05-31T05:10:48.465909Z",
     "iopub.status.busy": "2024-05-31T05:10:48.465465Z",
     "iopub.status.idle": "2024-05-31T05:10:48.496335Z",
     "shell.execute_reply": "2024-05-31T05:10:48.494782Z"
    },
    "papermill": {
     "duration": 0.042476,
     "end_time": "2024-05-31T05:10:48.499538",
     "exception": false,
     "start_time": "2024-05-31T05:10:48.457062",
     "status": "completed"
    },
    "tags": []
   },
   "outputs": [
    {
     "name": "stdout",
     "output_type": "stream",
     "text": [
      "<class 'pandas.core.frame.DataFrame'>\n",
      "RangeIndex: 506 entries, 0 to 505\n",
      "Data columns (total 14 columns):\n",
      " #   Column   Non-Null Count  Dtype  \n",
      "---  ------   --------------  -----  \n",
      " 0   CRIM     486 non-null    float64\n",
      " 1   ZN       486 non-null    float64\n",
      " 2   INDUS    486 non-null    float64\n",
      " 3   CHAS     486 non-null    float64\n",
      " 4   NOX      506 non-null    float64\n",
      " 5   RM       506 non-null    float64\n",
      " 6   AGE      486 non-null    float64\n",
      " 7   DIS      506 non-null    float64\n",
      " 8   RAD      506 non-null    int64  \n",
      " 9   TAX      506 non-null    int64  \n",
      " 10  PTRATIO  506 non-null    float64\n",
      " 11  B        506 non-null    float64\n",
      " 12  LSTAT    486 non-null    float64\n",
      " 13  MEDV     506 non-null    float64\n",
      "dtypes: float64(12), int64(2)\n",
      "memory usage: 55.5 KB\n"
     ]
    }
   ],
   "source": [
    "df.info()"
   ]
  },
  {
   "cell_type": "code",
   "execution_count": 5,
   "id": "63da8d22",
   "metadata": {
    "execution": {
     "iopub.execute_input": "2024-05-31T05:10:48.516038Z",
     "iopub.status.busy": "2024-05-31T05:10:48.515058Z",
     "iopub.status.idle": "2024-05-31T05:10:48.523708Z",
     "shell.execute_reply": "2024-05-31T05:10:48.522275Z"
    },
    "papermill": {
     "duration": 0.020912,
     "end_time": "2024-05-31T05:10:48.527438",
     "exception": false,
     "start_time": "2024-05-31T05:10:48.506526",
     "status": "completed"
    },
    "tags": []
   },
   "outputs": [
    {
     "name": "stdout",
     "output_type": "stream",
     "text": [
      "CRIM       20\n",
      "ZN         20\n",
      "INDUS      20\n",
      "CHAS       20\n",
      "NOX         0\n",
      "RM          0\n",
      "AGE        20\n",
      "DIS         0\n",
      "RAD         0\n",
      "TAX         0\n",
      "PTRATIO     0\n",
      "B           0\n",
      "LSTAT      20\n",
      "MEDV        0\n",
      "dtype: int64\n"
     ]
    }
   ],
   "source": [
    "# preprocessing to replace  rows with na with the mean value \n",
    "missing_values = df.isna().sum()\n",
    "print(missing_values)"
   ]
  },
  {
   "cell_type": "code",
   "execution_count": 6,
   "id": "f7e80edf",
   "metadata": {
    "execution": {
     "iopub.execute_input": "2024-05-31T05:10:48.543730Z",
     "iopub.status.busy": "2024-05-31T05:10:48.542951Z",
     "iopub.status.idle": "2024-05-31T05:10:48.589227Z",
     "shell.execute_reply": "2024-05-31T05:10:48.587675Z"
    },
    "papermill": {
     "duration": 0.057783,
     "end_time": "2024-05-31T05:10:48.592165",
     "exception": false,
     "start_time": "2024-05-31T05:10:48.534382",
     "status": "completed"
    },
    "tags": []
   },
   "outputs": [
    {
     "data": {
      "text/html": [
       "<div>\n",
       "<style scoped>\n",
       "    .dataframe tbody tr th:only-of-type {\n",
       "        vertical-align: middle;\n",
       "    }\n",
       "\n",
       "    .dataframe tbody tr th {\n",
       "        vertical-align: top;\n",
       "    }\n",
       "\n",
       "    .dataframe thead th {\n",
       "        text-align: right;\n",
       "    }\n",
       "</style>\n",
       "<table border=\"1\" class=\"dataframe\">\n",
       "  <thead>\n",
       "    <tr style=\"text-align: right;\">\n",
       "      <th></th>\n",
       "      <th>CRIM</th>\n",
       "      <th>ZN</th>\n",
       "      <th>INDUS</th>\n",
       "      <th>CHAS</th>\n",
       "      <th>NOX</th>\n",
       "      <th>RM</th>\n",
       "      <th>AGE</th>\n",
       "      <th>DIS</th>\n",
       "      <th>RAD</th>\n",
       "      <th>TAX</th>\n",
       "      <th>PTRATIO</th>\n",
       "      <th>B</th>\n",
       "      <th>LSTAT</th>\n",
       "      <th>MEDV</th>\n",
       "    </tr>\n",
       "  </thead>\n",
       "  <tbody>\n",
       "    <tr>\n",
       "      <th>0</th>\n",
       "      <td>0.00632</td>\n",
       "      <td>18.0</td>\n",
       "      <td>2.31</td>\n",
       "      <td>0.0</td>\n",
       "      <td>0.538</td>\n",
       "      <td>6.575</td>\n",
       "      <td>65.200000</td>\n",
       "      <td>4.0900</td>\n",
       "      <td>1</td>\n",
       "      <td>296</td>\n",
       "      <td>15.3</td>\n",
       "      <td>396.90</td>\n",
       "      <td>4.980000</td>\n",
       "      <td>24.0</td>\n",
       "    </tr>\n",
       "    <tr>\n",
       "      <th>1</th>\n",
       "      <td>0.02731</td>\n",
       "      <td>0.0</td>\n",
       "      <td>7.07</td>\n",
       "      <td>0.0</td>\n",
       "      <td>0.469</td>\n",
       "      <td>6.421</td>\n",
       "      <td>78.900000</td>\n",
       "      <td>4.9671</td>\n",
       "      <td>2</td>\n",
       "      <td>242</td>\n",
       "      <td>17.8</td>\n",
       "      <td>396.90</td>\n",
       "      <td>9.140000</td>\n",
       "      <td>21.6</td>\n",
       "    </tr>\n",
       "    <tr>\n",
       "      <th>2</th>\n",
       "      <td>0.02729</td>\n",
       "      <td>0.0</td>\n",
       "      <td>7.07</td>\n",
       "      <td>0.0</td>\n",
       "      <td>0.469</td>\n",
       "      <td>7.185</td>\n",
       "      <td>61.100000</td>\n",
       "      <td>4.9671</td>\n",
       "      <td>2</td>\n",
       "      <td>242</td>\n",
       "      <td>17.8</td>\n",
       "      <td>392.83</td>\n",
       "      <td>4.030000</td>\n",
       "      <td>34.7</td>\n",
       "    </tr>\n",
       "    <tr>\n",
       "      <th>3</th>\n",
       "      <td>0.03237</td>\n",
       "      <td>0.0</td>\n",
       "      <td>2.18</td>\n",
       "      <td>0.0</td>\n",
       "      <td>0.458</td>\n",
       "      <td>6.998</td>\n",
       "      <td>45.800000</td>\n",
       "      <td>6.0622</td>\n",
       "      <td>3</td>\n",
       "      <td>222</td>\n",
       "      <td>18.7</td>\n",
       "      <td>394.63</td>\n",
       "      <td>2.940000</td>\n",
       "      <td>33.4</td>\n",
       "    </tr>\n",
       "    <tr>\n",
       "      <th>4</th>\n",
       "      <td>0.06905</td>\n",
       "      <td>0.0</td>\n",
       "      <td>2.18</td>\n",
       "      <td>0.0</td>\n",
       "      <td>0.458</td>\n",
       "      <td>7.147</td>\n",
       "      <td>54.200000</td>\n",
       "      <td>6.0622</td>\n",
       "      <td>3</td>\n",
       "      <td>222</td>\n",
       "      <td>18.7</td>\n",
       "      <td>396.90</td>\n",
       "      <td>12.715432</td>\n",
       "      <td>36.2</td>\n",
       "    </tr>\n",
       "    <tr>\n",
       "      <th>...</th>\n",
       "      <td>...</td>\n",
       "      <td>...</td>\n",
       "      <td>...</td>\n",
       "      <td>...</td>\n",
       "      <td>...</td>\n",
       "      <td>...</td>\n",
       "      <td>...</td>\n",
       "      <td>...</td>\n",
       "      <td>...</td>\n",
       "      <td>...</td>\n",
       "      <td>...</td>\n",
       "      <td>...</td>\n",
       "      <td>...</td>\n",
       "      <td>...</td>\n",
       "    </tr>\n",
       "    <tr>\n",
       "      <th>501</th>\n",
       "      <td>0.06263</td>\n",
       "      <td>0.0</td>\n",
       "      <td>11.93</td>\n",
       "      <td>0.0</td>\n",
       "      <td>0.573</td>\n",
       "      <td>6.593</td>\n",
       "      <td>69.100000</td>\n",
       "      <td>2.4786</td>\n",
       "      <td>1</td>\n",
       "      <td>273</td>\n",
       "      <td>21.0</td>\n",
       "      <td>391.99</td>\n",
       "      <td>12.715432</td>\n",
       "      <td>22.4</td>\n",
       "    </tr>\n",
       "    <tr>\n",
       "      <th>502</th>\n",
       "      <td>0.04527</td>\n",
       "      <td>0.0</td>\n",
       "      <td>11.93</td>\n",
       "      <td>0.0</td>\n",
       "      <td>0.573</td>\n",
       "      <td>6.120</td>\n",
       "      <td>76.700000</td>\n",
       "      <td>2.2875</td>\n",
       "      <td>1</td>\n",
       "      <td>273</td>\n",
       "      <td>21.0</td>\n",
       "      <td>396.90</td>\n",
       "      <td>9.080000</td>\n",
       "      <td>20.6</td>\n",
       "    </tr>\n",
       "    <tr>\n",
       "      <th>503</th>\n",
       "      <td>0.06076</td>\n",
       "      <td>0.0</td>\n",
       "      <td>11.93</td>\n",
       "      <td>0.0</td>\n",
       "      <td>0.573</td>\n",
       "      <td>6.976</td>\n",
       "      <td>91.000000</td>\n",
       "      <td>2.1675</td>\n",
       "      <td>1</td>\n",
       "      <td>273</td>\n",
       "      <td>21.0</td>\n",
       "      <td>396.90</td>\n",
       "      <td>5.640000</td>\n",
       "      <td>23.9</td>\n",
       "    </tr>\n",
       "    <tr>\n",
       "      <th>504</th>\n",
       "      <td>0.10959</td>\n",
       "      <td>0.0</td>\n",
       "      <td>11.93</td>\n",
       "      <td>0.0</td>\n",
       "      <td>0.573</td>\n",
       "      <td>6.794</td>\n",
       "      <td>89.300000</td>\n",
       "      <td>2.3889</td>\n",
       "      <td>1</td>\n",
       "      <td>273</td>\n",
       "      <td>21.0</td>\n",
       "      <td>393.45</td>\n",
       "      <td>6.480000</td>\n",
       "      <td>22.0</td>\n",
       "    </tr>\n",
       "    <tr>\n",
       "      <th>505</th>\n",
       "      <td>0.04741</td>\n",
       "      <td>0.0</td>\n",
       "      <td>11.93</td>\n",
       "      <td>0.0</td>\n",
       "      <td>0.573</td>\n",
       "      <td>6.030</td>\n",
       "      <td>68.518519</td>\n",
       "      <td>2.5050</td>\n",
       "      <td>1</td>\n",
       "      <td>273</td>\n",
       "      <td>21.0</td>\n",
       "      <td>396.90</td>\n",
       "      <td>7.880000</td>\n",
       "      <td>11.9</td>\n",
       "    </tr>\n",
       "  </tbody>\n",
       "</table>\n",
       "<p>506 rows × 14 columns</p>\n",
       "</div>"
      ],
      "text/plain": [
       "        CRIM    ZN  INDUS  CHAS    NOX     RM        AGE     DIS  RAD  TAX  \\\n",
       "0    0.00632  18.0   2.31   0.0  0.538  6.575  65.200000  4.0900    1  296   \n",
       "1    0.02731   0.0   7.07   0.0  0.469  6.421  78.900000  4.9671    2  242   \n",
       "2    0.02729   0.0   7.07   0.0  0.469  7.185  61.100000  4.9671    2  242   \n",
       "3    0.03237   0.0   2.18   0.0  0.458  6.998  45.800000  6.0622    3  222   \n",
       "4    0.06905   0.0   2.18   0.0  0.458  7.147  54.200000  6.0622    3  222   \n",
       "..       ...   ...    ...   ...    ...    ...        ...     ...  ...  ...   \n",
       "501  0.06263   0.0  11.93   0.0  0.573  6.593  69.100000  2.4786    1  273   \n",
       "502  0.04527   0.0  11.93   0.0  0.573  6.120  76.700000  2.2875    1  273   \n",
       "503  0.06076   0.0  11.93   0.0  0.573  6.976  91.000000  2.1675    1  273   \n",
       "504  0.10959   0.0  11.93   0.0  0.573  6.794  89.300000  2.3889    1  273   \n",
       "505  0.04741   0.0  11.93   0.0  0.573  6.030  68.518519  2.5050    1  273   \n",
       "\n",
       "     PTRATIO       B      LSTAT  MEDV  \n",
       "0       15.3  396.90   4.980000  24.0  \n",
       "1       17.8  396.90   9.140000  21.6  \n",
       "2       17.8  392.83   4.030000  34.7  \n",
       "3       18.7  394.63   2.940000  33.4  \n",
       "4       18.7  396.90  12.715432  36.2  \n",
       "..       ...     ...        ...   ...  \n",
       "501     21.0  391.99  12.715432  22.4  \n",
       "502     21.0  396.90   9.080000  20.6  \n",
       "503     21.0  396.90   5.640000  23.9  \n",
       "504     21.0  393.45   6.480000  22.0  \n",
       "505     21.0  396.90   7.880000  11.9  \n",
       "\n",
       "[506 rows x 14 columns]"
      ]
     },
     "execution_count": 6,
     "metadata": {},
     "output_type": "execute_result"
    }
   ],
   "source": [
    "# column with na\n",
    "na_columns = ['CRIM', 'ZN', 'INDUS', 'CHAS', 'AGE', 'LSTAT']\n",
    "\n",
    "\n",
    "# fill na with the mean balue of that column\n",
    "df[na_columns] = df[na_columns].fillna(df[na_columns].mean())\n",
    "df"
   ]
  },
  {
   "cell_type": "code",
   "execution_count": 7,
   "id": "7fd783ec",
   "metadata": {
    "execution": {
     "iopub.execute_input": "2024-05-31T05:10:48.609480Z",
     "iopub.status.busy": "2024-05-31T05:10:48.609074Z",
     "iopub.status.idle": "2024-05-31T05:10:50.218038Z",
     "shell.execute_reply": "2024-05-31T05:10:50.216774Z"
    },
    "papermill": {
     "duration": 1.620638,
     "end_time": "2024-05-31T05:10:50.220556",
     "exception": false,
     "start_time": "2024-05-31T05:10:48.599918",
     "status": "completed"
    },
    "tags": []
   },
   "outputs": [
    {
     "data": {
      "text/plain": [
       "220    26.7\n",
       "71     21.7\n",
       "240    22.0\n",
       "6      22.9\n",
       "417    10.4\n",
       "       ... \n",
       "323    18.5\n",
       "192    36.4\n",
       "117    19.2\n",
       "47     16.6\n",
       "172    23.1\n",
       "Name: MEDV, Length: 404, dtype: float64"
      ]
     },
     "execution_count": 7,
     "metadata": {},
     "output_type": "execute_result"
    }
   ],
   "source": [
    "#splitting the data into training and testing sets\n",
    "from sklearn.model_selection import  train_test_split\n",
    "\n",
    "x = df.drop([\"MEDV\"], axis=1) #all attributes except the dependent\n",
    "y = df[\"MEDV\"] #dependent attribute\n",
    "\n",
    "X_train, X_test, y_train, y_test = train_test_split(x, y, test_size=0.2, random_state=0)\n",
    "\n",
    "X_train\n",
    "y_train\n",
    "\n"
   ]
  },
  {
   "cell_type": "code",
   "execution_count": 8,
   "id": "068b71ca",
   "metadata": {
    "execution": {
     "iopub.execute_input": "2024-05-31T05:10:50.237799Z",
     "iopub.status.busy": "2024-05-31T05:10:50.237384Z",
     "iopub.status.idle": "2024-05-31T05:10:50.242802Z",
     "shell.execute_reply": "2024-05-31T05:10:50.241383Z"
    },
    "papermill": {
     "duration": 0.017373,
     "end_time": "2024-05-31T05:10:50.245513",
     "exception": false,
     "start_time": "2024-05-31T05:10:50.228140",
     "status": "completed"
    },
    "tags": []
   },
   "outputs": [],
   "source": [
    "from sklearn.preprocessing import StandardScaler\n",
    "scaler = StandardScaler()"
   ]
  },
  {
   "cell_type": "code",
   "execution_count": 9,
   "id": "fdfd24d0",
   "metadata": {
    "execution": {
     "iopub.execute_input": "2024-05-31T05:10:50.262571Z",
     "iopub.status.busy": "2024-05-31T05:10:50.261922Z",
     "iopub.status.idle": "2024-05-31T05:10:50.276340Z",
     "shell.execute_reply": "2024-05-31T05:10:50.275490Z"
    },
    "papermill": {
     "duration": 0.027389,
     "end_time": "2024-05-31T05:10:50.280238",
     "exception": false,
     "start_time": "2024-05-31T05:10:50.252849",
     "status": "completed"
    },
    "tags": []
   },
   "outputs": [
    {
     "data": {
      "text/plain": [
       "array([[-0.37822248, -0.49984119, -0.71038894, ..., -0.48463784,\n",
       "         0.3716906 , -0.43085557],\n",
       "       [-0.4028516 , -0.49984119, -0.03317071, ...,  0.33649132,\n",
       "         0.20501196, -0.40701928],\n",
       "       [-0.40846985,  0.79534138, -0.89695448, ..., -0.84958414,\n",
       "         0.36660893, -0.19669908],\n",
       "       ...,\n",
       "       [-0.40381289, -0.49984119, -0.15069232, ..., -0.30216469,\n",
       "         0.40342278, -0.34812962],\n",
       "       [-0.39413942, -0.49984119,  0.00707922, ..., -0.25654641,\n",
       "         0.38343489,  0.84368481],\n",
       "       [-0.40527584, -0.49984119, -1.02622824, ..., -0.84958414,\n",
       "         0.43041207,  0.26740748]])"
      ]
     },
     "execution_count": 9,
     "metadata": {},
     "output_type": "execute_result"
    }
   ],
   "source": [
    "X_train = scaler.fit_transform(X_train)\n",
    "X_test = scaler.transform(X_test)\n",
    "\n",
    "X_train"
   ]
  },
  {
   "cell_type": "code",
   "execution_count": 10,
   "id": "2e54e4c6",
   "metadata": {
    "execution": {
     "iopub.execute_input": "2024-05-31T05:10:50.303111Z",
     "iopub.status.busy": "2024-05-31T05:10:50.302349Z",
     "iopub.status.idle": "2024-05-31T05:10:50.307432Z",
     "shell.execute_reply": "2024-05-31T05:10:50.306451Z"
    },
    "papermill": {
     "duration": 0.018088,
     "end_time": "2024-05-31T05:10:50.309979",
     "exception": false,
     "start_time": "2024-05-31T05:10:50.291891",
     "status": "completed"
    },
    "tags": []
   },
   "outputs": [],
   "source": [
    "# scaler.inverse_transform(X_train)"
   ]
  },
  {
   "cell_type": "code",
   "execution_count": 11,
   "id": "51e7f33a",
   "metadata": {
    "execution": {
     "iopub.execute_input": "2024-05-31T05:10:50.328858Z",
     "iopub.status.busy": "2024-05-31T05:10:50.327393Z",
     "iopub.status.idle": "2024-05-31T05:10:50.490442Z",
     "shell.execute_reply": "2024-05-31T05:10:50.488988Z"
    },
    "papermill": {
     "duration": 0.175525,
     "end_time": "2024-05-31T05:10:50.493206",
     "exception": false,
     "start_time": "2024-05-31T05:10:50.317681",
     "status": "completed"
    },
    "tags": []
   },
   "outputs": [
    {
     "data": {
      "text/plain": [
       "array([-17.33011006, -20.23643278, -23.35699046, -32.36220819,\n",
       "       -16.91828818])"
      ]
     },
     "execution_count": 11,
     "metadata": {},
     "output_type": "execute_result"
    }
   ],
   "source": [
    "from sklearn.linear_model import LinearRegression\n",
    "\n",
    "# cross validation\n",
    "from sklearn.model_selection import cross_val_score\n",
    "\n",
    "regression = LinearRegression()\n",
    "regression.fit(X_train,y_train)\n",
    "\n",
    "# cross_val_score for cross validation i.e breaking into 5 small models, calculating their mse and taking mean of them together\n",
    "mse = cross_val_score(regression,X_train,y_train,scoring='neg_mean_squared_error',cv = 5)\n",
    "\n",
    "mse\n",
    "\n",
    "\n"
   ]
  },
  {
   "cell_type": "code",
   "execution_count": 12,
   "id": "77cda510",
   "metadata": {
    "execution": {
     "iopub.execute_input": "2024-05-31T05:10:50.511457Z",
     "iopub.status.busy": "2024-05-31T05:10:50.510811Z",
     "iopub.status.idle": "2024-05-31T05:10:50.520971Z",
     "shell.execute_reply": "2024-05-31T05:10:50.519368Z"
    },
    "papermill": {
     "duration": 0.023,
     "end_time": "2024-05-31T05:10:50.524006",
     "exception": false,
     "start_time": "2024-05-31T05:10:50.501006",
     "status": "completed"
    },
    "tags": []
   },
   "outputs": [
    {
     "data": {
      "text/plain": [
       "-22.040805933063297"
      ]
     },
     "execution_count": 12,
     "metadata": {},
     "output_type": "execute_result"
    }
   ],
   "source": [
    "np.mean(mse)"
   ]
  },
  {
   "cell_type": "code",
   "execution_count": 13,
   "id": "46ce00ee",
   "metadata": {
    "execution": {
     "iopub.execute_input": "2024-05-31T05:10:50.544341Z",
     "iopub.status.busy": "2024-05-31T05:10:50.543712Z",
     "iopub.status.idle": "2024-05-31T05:10:50.556686Z",
     "shell.execute_reply": "2024-05-31T05:10:50.555341Z"
    },
    "papermill": {
     "duration": 0.026246,
     "end_time": "2024-05-31T05:10:50.559493",
     "exception": false,
     "start_time": "2024-05-31T05:10:50.533247",
     "status": "completed"
    },
    "tags": []
   },
   "outputs": [
    {
     "data": {
      "text/plain": [
       "array([26.175296  , 22.64747588, 29.1456294 , 11.52971235, 21.65312134,\n",
       "       19.42320699, 20.18413017, 21.46914355, 19.1985363 , 19.98228162,\n",
       "        4.32483046, 16.16891668, 16.87682404,  5.31232373, 39.36827861,\n",
       "       33.09358732, 21.9152876 , 36.61918436, 31.52676377, 23.52713482,\n",
       "       24.96022461, 23.69866912, 20.88033802, 30.55074901, 22.74081741,\n",
       "        8.66805959, 17.65119072, 17.93088633, 36.01223185, 21.16299556,\n",
       "       17.83464361, 17.43306603, 19.5240167 , 23.50605522, 28.97262793,\n",
       "       19.21808862, 11.23997435, 23.94256597, 17.86786717, 15.40849806,\n",
       "       26.3630836 , 21.5193299 , 23.78733694, 14.84041522, 23.9445175 ,\n",
       "       24.97067627, 20.11366175, 23.08636158, 10.42208266, 24.52832122,\n",
       "       21.60847326, 18.66228165, 24.53362832, 31.03502944, 12.97457826,\n",
       "       22.38536236, 21.34822822, 16.10928673, 12.37477824, 22.78596712,\n",
       "       18.28714824, 21.91802045, 32.49771603, 31.21256855, 17.47867791,\n",
       "       33.18861907, 19.17896285, 19.94662594, 20.17142015, 23.90228857,\n",
       "       22.81288844, 24.17911208, 30.83402844, 28.87481037, 25.14581721,\n",
       "        5.55072029, 37.0183454 , 24.15428003, 27.67587636, 19.63884644,\n",
       "       28.74874123, 18.83204358, 17.63305678, 37.97947167, 39.49507972,\n",
       "       24.17228966, 25.33605088, 16.75044819, 25.43224687, 16.65089426,\n",
       "       16.49186628, 13.37283452, 24.81689254, 31.21188699, 22.0891919 ,\n",
       "       20.49360168,  0.8229737 , 25.5004737 , 15.5481509 , 17.72901193,\n",
       "       25.77663998, 22.43131323])"
      ]
     },
     "execution_count": 13,
     "metadata": {},
     "output_type": "execute_result"
    }
   ],
   "source": [
    "reg_pred = regression.predict(X_test)\n",
    "\n",
    "reg_pred"
   ]
  },
  {
   "cell_type": "code",
   "execution_count": 14,
   "id": "aa89b33a",
   "metadata": {
    "execution": {
     "iopub.execute_input": "2024-05-31T05:10:50.579494Z",
     "iopub.status.busy": "2024-05-31T05:10:50.578439Z",
     "iopub.status.idle": "2024-05-31T05:10:51.589951Z",
     "shell.execute_reply": "2024-05-31T05:10:51.588424Z"
    },
    "papermill": {
     "duration": 1.024816,
     "end_time": "2024-05-31T05:10:51.592711",
     "exception": false,
     "start_time": "2024-05-31T05:10:50.567895",
     "status": "completed"
    },
    "tags": []
   },
   "outputs": [
    {
     "name": "stderr",
     "output_type": "stream",
     "text": [
      "/opt/conda/lib/python3.10/site-packages/seaborn/_oldcore.py:1119: FutureWarning: use_inf_as_na option is deprecated and will be removed in a future version. Convert inf values to NaN before operating instead.\n",
      "  with pd.option_context('mode.use_inf_as_na', True):\n"
     ]
    },
    {
     "data": {
      "text/plain": [
       "<seaborn.axisgrid.FacetGrid at 0x7cd4b971ff10>"
      ]
     },
     "execution_count": 14,
     "metadata": {},
     "output_type": "execute_result"
    },
    {
     "data": {
      "image/png": "[encoded data removed]",
      "text/plain": [
       "<Figure size 500x500 with 1 Axes>"
      ]
     },
     "metadata": {},
     "output_type": "display_data"
    }
   ],
   "source": [
    "import seaborn as sns\n",
    "sns.displot(reg_pred-y_test, kind='kde')"
   ]
  },
  {
   "cell_type": "code",
   "execution_count": 15,
   "id": "15f2fc1a",
   "metadata": {
    "execution": {
     "iopub.execute_input": "2024-05-31T05:10:51.613580Z",
     "iopub.status.busy": "2024-05-31T05:10:51.612523Z",
     "iopub.status.idle": "2024-05-31T05:10:51.622965Z",
     "shell.execute_reply": "2024-05-31T05:10:51.621597Z"
    },
    "papermill": {
     "duration": 0.024478,
     "end_time": "2024-05-31T05:10:51.626203",
     "exception": false,
     "start_time": "2024-05-31T05:10:51.601725",
     "status": "completed"
    },
    "tags": []
   },
   "outputs": [
    {
     "data": {
      "text/plain": [
       "0.34054297121375643"
      ]
     },
     "execution_count": 15,
     "metadata": {},
     "output_type": "execute_result"
    }
   ],
   "source": [
    "from sklearn.metrics import r2_score\n",
    "\n",
    "score = r2_score(reg_pred,y_test)\n",
    "\n",
    "score"
   ]
  },
  {
   "cell_type": "code",
   "execution_count": null,
   "id": "0f473062",
   "metadata": {
    "papermill": {
     "duration": 0.00893,
     "end_time": "2024-05-31T05:10:51.644662",
     "exception": false,
     "start_time": "2024-05-31T05:10:51.635732",
     "status": "completed"
    },
    "tags": []
   },
   "outputs": [],
   "source": [
    "\n"
   ]
  }
 ],
 "metadata": {
  "kaggle": {
   "accelerator": "none",
   "dataSources": [
    {
     "datasetId": 5113316,
     "sourceId": 8556084,
     "sourceType": "datasetVersion"
    }
   ],
   "dockerImageVersionId": 30698,
   "isGpuEnabled": false,
   "isInternetEnabled": false,
   "language": "python",
   "sourceType": "notebook"
  },
  "kernelspec": {
   "display_name": "Python 3",
   "language": "python",
   "name": "python3"
  },
  "language_info": {
   "codemirror_mode": {
    "name": "ipython",
    "version": 3
   },
   "file_extension": ".py",
   "mimetype": "text/x-python",
   "name": "python",
   "nbconvert_exporter": "python",
   "pygments_lexer": "ipython3",
   "version": "3.10.13"
  },
  "papermill": {
   "default_parameters": {},
   "duration": 8.580606,
   "end_time": "2024-05-31T05:10:52.478424",
   "environment_variables": {},
   "exception": null,
   "input_path": "__notebook__.ipynb",
   "output_path": "__notebook__.ipynb",
   "parameters": {},
   "start_time": "2024-05-31T05:10:43.897818",
   "version": "2.5.0"
  }
 },
 "nbformat": 4,
 "nbformat_minor": 5
}
